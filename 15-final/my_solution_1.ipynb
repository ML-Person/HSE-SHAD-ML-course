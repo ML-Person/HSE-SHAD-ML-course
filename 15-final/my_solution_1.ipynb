{
 "cells": [
  {
   "cell_type": "code",
   "execution_count": 40,
   "metadata": {
    "collapsed": true
   },
   "outputs": [],
   "source": [
    "# загрузим необходимые библиотеки\n",
    "%matplotlib inline\n",
    "# отключим предупреждения Anaconda\n",
    "import warnings\n",
    "warnings.filterwarnings('ignore')\n",
    "\n",
    "import matplotlib.pyplot as plt\n",
    "import numpy as np\n",
    "import pandas as pd\n",
    "from sklearn.preprocessing import StandardScaler\n",
    "from sklearn.model_selection import KFold, cross_val_score\n",
    "from sklearn.ensemble import GradientBoostingClassifier\n",
    "from sklearn.linear_model import LogisticRegression"
   ]
  },
  {
   "cell_type": "markdown",
   "metadata": {},
   "source": [
    "# Градиентный бустинг \"в лоб\""
   ]
  },
  {
   "cell_type": "code",
   "execution_count": 28,
   "metadata": {
    "collapsed": true
   },
   "outputs": [],
   "source": [
    "# считаем данные и вектор ответов сразу запишем в отдельную переменную\n",
    "features = pd.read_csv('features.csv', index_col='match_id')\n",
    "\n",
    "X_train = features.drop(['duration', 'radiant_win',\n",
    "               'tower_status_radiant', 'tower_status_dire',\n",
    "               'barracks_status_radiant', 'barracks_status_dire'], axis=1)\n",
    "\n",
    "y_train = features['radiant_win']\n",
    "\n",
    "X_test = pd.read_csv('features_test.csv', index_col='match_id')"
   ]
  },
  {
   "cell_type": "code",
   "execution_count": 29,
   "metadata": {},
   "outputs": [
    {
     "data": {
      "text/html": [
       "<div>\n",
       "<style>\n",
       "    .dataframe thead tr:only-child th {\n",
       "        text-align: right;\n",
       "    }\n",
       "\n",
       "    .dataframe thead th {\n",
       "        text-align: left;\n",
       "    }\n",
       "\n",
       "    .dataframe tbody tr th {\n",
       "        vertical-align: top;\n",
       "    }\n",
       "</style>\n",
       "<table border=\"1\" class=\"dataframe\">\n",
       "  <thead>\n",
       "    <tr style=\"text-align: right;\">\n",
       "      <th></th>\n",
       "      <th>start_time</th>\n",
       "      <th>lobby_type</th>\n",
       "      <th>r1_hero</th>\n",
       "      <th>r1_level</th>\n",
       "      <th>r1_xp</th>\n",
       "      <th>r1_gold</th>\n",
       "      <th>r1_lh</th>\n",
       "      <th>r1_kills</th>\n",
       "      <th>r1_deaths</th>\n",
       "      <th>r1_items</th>\n",
       "      <th>...</th>\n",
       "      <th>radiant_ward_sentry_count</th>\n",
       "      <th>radiant_first_ward_time</th>\n",
       "      <th>dire_bottle_time</th>\n",
       "      <th>dire_courier_time</th>\n",
       "      <th>dire_flying_courier_time</th>\n",
       "      <th>dire_tpscroll_count</th>\n",
       "      <th>dire_boots_count</th>\n",
       "      <th>dire_ward_observer_count</th>\n",
       "      <th>dire_ward_sentry_count</th>\n",
       "      <th>dire_first_ward_time</th>\n",
       "    </tr>\n",
       "    <tr>\n",
       "      <th>match_id</th>\n",
       "      <th></th>\n",
       "      <th></th>\n",
       "      <th></th>\n",
       "      <th></th>\n",
       "      <th></th>\n",
       "      <th></th>\n",
       "      <th></th>\n",
       "      <th></th>\n",
       "      <th></th>\n",
       "      <th></th>\n",
       "      <th></th>\n",
       "      <th></th>\n",
       "      <th></th>\n",
       "      <th></th>\n",
       "      <th></th>\n",
       "      <th></th>\n",
       "      <th></th>\n",
       "      <th></th>\n",
       "      <th></th>\n",
       "      <th></th>\n",
       "      <th></th>\n",
       "    </tr>\n",
       "  </thead>\n",
       "  <tbody>\n",
       "    <tr>\n",
       "      <th>0</th>\n",
       "      <td>1430198770</td>\n",
       "      <td>7</td>\n",
       "      <td>11</td>\n",
       "      <td>5</td>\n",
       "      <td>2098</td>\n",
       "      <td>1489</td>\n",
       "      <td>20</td>\n",
       "      <td>0</td>\n",
       "      <td>0</td>\n",
       "      <td>7</td>\n",
       "      <td>...</td>\n",
       "      <td>0</td>\n",
       "      <td>35.0</td>\n",
       "      <td>103.0</td>\n",
       "      <td>-84.0</td>\n",
       "      <td>221.0</td>\n",
       "      <td>3</td>\n",
       "      <td>4</td>\n",
       "      <td>2</td>\n",
       "      <td>2</td>\n",
       "      <td>-52.0</td>\n",
       "    </tr>\n",
       "    <tr>\n",
       "      <th>1</th>\n",
       "      <td>1430220345</td>\n",
       "      <td>0</td>\n",
       "      <td>42</td>\n",
       "      <td>4</td>\n",
       "      <td>1188</td>\n",
       "      <td>1033</td>\n",
       "      <td>9</td>\n",
       "      <td>0</td>\n",
       "      <td>1</td>\n",
       "      <td>12</td>\n",
       "      <td>...</td>\n",
       "      <td>0</td>\n",
       "      <td>-20.0</td>\n",
       "      <td>149.0</td>\n",
       "      <td>-84.0</td>\n",
       "      <td>195.0</td>\n",
       "      <td>5</td>\n",
       "      <td>4</td>\n",
       "      <td>3</td>\n",
       "      <td>1</td>\n",
       "      <td>-5.0</td>\n",
       "    </tr>\n",
       "    <tr>\n",
       "      <th>2</th>\n",
       "      <td>1430227081</td>\n",
       "      <td>7</td>\n",
       "      <td>33</td>\n",
       "      <td>4</td>\n",
       "      <td>1319</td>\n",
       "      <td>1270</td>\n",
       "      <td>22</td>\n",
       "      <td>0</td>\n",
       "      <td>0</td>\n",
       "      <td>12</td>\n",
       "      <td>...</td>\n",
       "      <td>1</td>\n",
       "      <td>-39.0</td>\n",
       "      <td>45.0</td>\n",
       "      <td>-77.0</td>\n",
       "      <td>221.0</td>\n",
       "      <td>3</td>\n",
       "      <td>4</td>\n",
       "      <td>3</td>\n",
       "      <td>1</td>\n",
       "      <td>13.0</td>\n",
       "    </tr>\n",
       "  </tbody>\n",
       "</table>\n",
       "<p>3 rows × 102 columns</p>\n",
       "</div>"
      ],
      "text/plain": [
       "          start_time  lobby_type  r1_hero  r1_level  r1_xp  r1_gold  r1_lh  \\\n",
       "match_id                                                                     \n",
       "0         1430198770           7       11         5   2098     1489     20   \n",
       "1         1430220345           0       42         4   1188     1033      9   \n",
       "2         1430227081           7       33         4   1319     1270     22   \n",
       "\n",
       "          r1_kills  r1_deaths  r1_items          ...           \\\n",
       "match_id                                         ...            \n",
       "0                0          0         7          ...            \n",
       "1                0          1        12          ...            \n",
       "2                0          0        12          ...            \n",
       "\n",
       "          radiant_ward_sentry_count  radiant_first_ward_time  \\\n",
       "match_id                                                       \n",
       "0                                 0                     35.0   \n",
       "1                                 0                    -20.0   \n",
       "2                                 1                    -39.0   \n",
       "\n",
       "          dire_bottle_time  dire_courier_time  dire_flying_courier_time  \\\n",
       "match_id                                                                  \n",
       "0                    103.0              -84.0                     221.0   \n",
       "1                    149.0              -84.0                     195.0   \n",
       "2                     45.0              -77.0                     221.0   \n",
       "\n",
       "          dire_tpscroll_count  dire_boots_count  dire_ward_observer_count  \\\n",
       "match_id                                                                    \n",
       "0                           3                 4                         2   \n",
       "1                           5                 4                         3   \n",
       "2                           3                 4                         3   \n",
       "\n",
       "          dire_ward_sentry_count  dire_first_ward_time  \n",
       "match_id                                                \n",
       "0                              2                 -52.0  \n",
       "1                              1                  -5.0  \n",
       "2                              1                  13.0  \n",
       "\n",
       "[3 rows x 102 columns]"
      ]
     },
     "execution_count": 29,
     "metadata": {},
     "output_type": "execute_result"
    }
   ],
   "source": [
    "X_train.head(3)"
   ]
  },
  {
   "cell_type": "code",
   "execution_count": 30,
   "metadata": {},
   "outputs": [
    {
     "data": {
      "text/plain": [
       "first_blood_player2            0.452402\n",
       "radiant_flying_courier_time    0.282619\n",
       "dire_flying_courier_time       0.268415\n",
       "first_blood_time               0.201100\n",
       "first_blood_team               0.201100\n",
       "first_blood_player1            0.201100\n",
       "dire_bottle_time               0.166029\n",
       "radiant_bottle_time            0.161380\n",
       "radiant_first_ward_time        0.018883\n",
       "dire_first_ward_time           0.018780\n",
       "radiant_courier_time           0.007117\n",
       "dire_courier_time              0.006953\n",
       "Name: count, dtype: float64"
      ]
     },
     "execution_count": 30,
     "metadata": {},
     "output_type": "execute_result"
    }
   ],
   "source": [
    "# выведем список признаков с пропусками и % пропусков\n",
    "rows = len(X_train)\n",
    "counts = X_train.describe().T['count']\n",
    "counts_na = counts[counts < rows]\n",
    "counts_na.sort_values().apply(lambda c: (rows - c) / rows)"
   ]
  },
  {
   "cell_type": "code",
   "execution_count": 31,
   "metadata": {},
   "outputs": [
    {
     "data": {
      "text/plain": [
       "[('first_blood_player2', 53243),\n",
       " ('radiant_flying_courier_time', 69751),\n",
       " ('dire_flying_courier_time', 71132),\n",
       " ('first_blood_time', 77677),\n",
       " ('first_blood_team', 77677),\n",
       " ('first_blood_player1', 77677),\n",
       " ('dire_bottle_time', 81087),\n",
       " ('radiant_bottle_time', 81539),\n",
       " ('radiant_first_ward_time', 95394),\n",
       " ('dire_first_ward_time', 95404),\n",
       " ('radiant_courier_time', 96538),\n",
       " ('dire_courier_time', 96554),\n",
       " ('start_time', 97230)]"
      ]
     },
     "execution_count": 31,
     "metadata": {},
     "output_type": "execute_result"
    }
   ],
   "source": [
    "# вывести список можно и так:\n",
    "features_count = dict(X_train.count())\n",
    "features_count = sorted(features_count.items(), key=lambda x: x[1])\n",
    "features_count[0:13]"
   ]
  },
  {
   "cell_type": "code",
   "execution_count": 32,
   "metadata": {
    "collapsed": true
   },
   "outputs": [],
   "source": [
    "# заполним пропуски нулями\n",
    "X_train = X_train.fillna(0).astype(int)"
   ]
  },
  {
   "cell_type": "markdown",
   "metadata": {},
   "source": [
    "### Обучение модели"
   ]
  },
  {
   "cell_type": "code",
   "execution_count": 7,
   "metadata": {
    "collapsed": true
   },
   "outputs": [],
   "source": [
    "kfold = KFold(n_splits=5, shuffle=True, random_state=17)"
   ]
  },
  {
   "cell_type": "code",
   "execution_count": 10,
   "metadata": {},
   "outputs": [
    {
     "name": "stdout",
     "output_type": "stream",
     "text": [
      "N_estimators = 10\n",
      "[ 0.66074052  0.65980314  0.66760099  0.65683934  0.67369049]\n",
      "N_estimators = 20\n",
      "[ 0.67727801  0.67662887  0.68691047  0.67747497  0.68765006]\n",
      "N_estimators = 30\n",
      "[ 0.68577529  0.6844015   0.69439328  0.68581051  0.69384759]\n",
      "N_estimators = 50\n",
      "[ 0.69420342  0.69262095  0.70215968  0.69360977  0.70329114]\n",
      "N_estimators = 150\n",
      "[ 0.70871956  0.70551569  0.71565071  0.70659643  0.71564765]\n",
      "N_estimators = 250\n",
      "[ 0.71552632  0.71056913  0.72120316  0.71244505  0.72044006]\n",
      "Wall time: 12min 4s\n"
     ]
    }
   ],
   "source": [
    "%%time\n",
    "scores = []\n",
    "nums = [10, 20, 30, 50, 150, 250]\n",
    "\n",
    "for n in nums:\n",
    "    print(\"N_estimators =\", n)\n",
    "    model = GradientBoostingClassifier(n_estimators=n, random_state=17)\n",
    "    model_scores = cross_val_score(model, X_train, y_train, cv=kfold, scoring='roc_auc', n_jobs=-1)\n",
    "    print(model_scores)\n",
    "    scores.append(np.mean(model_scores))"
   ]
  },
  {
   "cell_type": "code",
   "execution_count": 11,
   "metadata": {},
   "outputs": [
    {
     "data": {
      "image/png": "[encoded data removed]",
      "text/plain": [
       "<matplotlib.figure.Figure at 0x2c029d1c160>"
      ]
     },
     "metadata": {},
     "output_type": "display_data"
    }
   ],
   "source": [
    "# посмотрим график зависимости качества модели от количества деревьев\n",
    "plt.plot(nums, scores)\n",
    "plt.xlabel('N_estimators')\n",
    "plt.ylabel('Scores');"
   ]
  },
  {
   "cell_type": "markdown",
   "metadata": {},
   "source": [
    "Качество еще достаточно плохое, потому что мы использовали абсолютно все признаки, никак их не обрабатывали и не проводили более тщательную кросс-валидацию. Но при этом при увеличении количества деревьев качество растет и близится к значению 0.72"
   ]
  },
  {
   "cell_type": "markdown",
   "metadata": {},
   "source": [
    "Для достижения большего качества имеет смысл использовать более 30 деревьев. Для ускорения обучения можно использовать не всю выборку, а некоторое ее подмножество — оптимально брать соотношение 70/30. Также можно посмотреть как уменьшение глубины деревьев скажется на качестве модели."
   ]
  },
  {
   "cell_type": "markdown",
   "metadata": {},
   "source": [
    "# Логистическая регрессия"
   ]
  },
  {
   "cell_type": "markdown",
   "metadata": {},
   "source": [
    "Напишем несколько функций, чтобы подбирать параметр регуляризации С и смотреть как новые изменения сказались на общем качестве модели"
   ]
  },
  {
   "cell_type": "code",
   "execution_count": 17,
   "metadata": {
    "collapsed": true
   },
   "outputs": [],
   "source": [
    "def plot_with_c(C_powers, scores):\n",
    "    plt.plot(C_powers, scores)\n",
    "    plt.xlabel('log(C)')\n",
    "    plt.ylabel('scores');\n",
    "\n",
    "def testing(X, y, C):\n",
    "    model = LogisticRegression(C=C, n_jobs=-1, random_state=17)\n",
    "    return cross_val_score(model, X, y, cv=kfold, scoring='roc_auc', n_jobs=-1)\n",
    "\n",
    "# подбор параметра С\n",
    "def test_model(X, y):\n",
    "    scores = []\n",
    "    st_scaler = StandardScaler()\n",
    "    X_scale = st_scaler.fit_transform(X)\n",
    "    C_powers = range(-5, 6)\n",
    "    C_param = [10 ** i for i in C_powers]\n",
    "    for C in C_param:\n",
    "        model_scores = testing(X_scale, y, C)\n",
    "        print(\"C =\", C, 'Score =', model_scores.mean())\n",
    "        scores.append(np.mean(model_scores))\n",
    "        \n",
    "    plot_with_c(C_powers, scores)\n",
    "    max_score = max(scores)\n",
    "    max_score_index = scores.index(max_score)\n",
    "    \n",
    "    return C_param[max_score_index], max_score"
   ]
  },
  {
   "cell_type": "code",
   "execution_count": 18,
   "metadata": {},
   "outputs": [
    {
     "name": "stdout",
     "output_type": "stream",
     "text": [
      "C = 1e-05 Score = 0.695067106046\n",
      "C = 0.0001 Score = 0.71117516939\n",
      "C = 0.001 Score = 0.716138077109\n",
      "C = 0.01 Score = 0.716325473887\n",
      "C = 0.1 Score = 0.716300459475\n",
      "C = 1 Score = 0.716296996207\n",
      "C = 10 Score = 0.716296816332\n",
      "C = 100 Score = 0.716296765574\n",
      "C = 1000 Score = 0.716296763457\n",
      "C = 10000 Score = 0.71629675922\n",
      "C = 100000 Score = 0.716296754985\n",
      "Results:\n",
      " C = 0.01 \n",
      "Best Score = 0.716325473887\n",
      "Wall time: 2min 44s\n"
     ]
    },
    {
     "data": {
      "image/png": "[encoded data removed]",
      "text/plain": [
       "<matplotlib.figure.Figure at 0x2c028f2d6a0>"
      ]
     },
     "metadata": {},
     "output_type": "display_data"
    }
   ],
   "source": [
    "%%time\n",
    "# самая простая модель, кроме маштабирования признаков больше ничего не применяем\n",
    "C, max_score = test_model(X_train, y_train)\n",
    "print('Results:\\n C =', C, '\\nBest Score =', max_score)"
   ]
  },
  {
   "cell_type": "markdown",
   "metadata": {
    "collapsed": true
   },
   "source": [
    "### Удалим категориальные признаки"
   ]
  },
  {
   "cell_type": "code",
   "execution_count": 23,
   "metadata": {},
   "outputs": [
    {
     "name": "stdout",
     "output_type": "stream",
     "text": [
      "C = 1e-05 Score = 0.695012983541\n",
      "C = 0.0001 Score = 0.711177738364\n",
      "C = 0.001 Score = 0.716174961155\n",
      "C = 0.01 Score = 0.716366661529\n",
      "C = 0.1 Score = 0.716341677251\n",
      "C = 1 Score = 0.716337894115\n",
      "C = 10 Score = 0.716337527765\n",
      "C = 100 Score = 0.716337404883\n",
      "C = 1000 Score = 0.716337364638\n",
      "C = 10000 Score = 0.716337362523\n",
      "C = 100000 Score = 0.716337360405\n",
      "Results:\n",
      " C = 0.01 \n",
      "Best Score = 0.716366661529\n",
      "Wall time: 2min 40s\n"
     ]
    },
    {
     "data": {
      "image/png": "[encoded data removed]",
      "text/plain": [
       "<matplotlib.figure.Figure at 0x2c02a55f550>"
      ]
     },
     "metadata": {},
     "output_type": "display_data"
    }
   ],
   "source": [
    "%%time\n",
    "\n",
    "X_train.drop(['lobby_type'], axis=1)\n",
    "for i in range(1, 6):\n",
    "    X_train.drop(['r{}_hero'.format(i), 'd{}_hero'.format(i)], axis=1)\n",
    "\n",
    "    \n",
    "# проверим модель на выборке без категориальных признаков\n",
    "C, max_score = test_model(X_train, y_train)\n",
    "print('Results:\\n C =', C, '\\nBest Score =', max_score)"
   ]
  },
  {
   "cell_type": "markdown",
   "metadata": {},
   "source": [
    "Качество и лучшее значение гиперпараметра С - никак не изменились. Значит наша модель смогла распознать этот шум."
   ]
  },
  {
   "cell_type": "markdown",
   "metadata": {
    "collapsed": true
   },
   "source": [
    "### Добавим мешок слов для героев"
   ]
  },
  {
   "cell_type": "code",
   "execution_count": 35,
   "metadata": {},
   "outputs": [
    {
     "data": {
      "text/plain": [
       "112"
      ]
     },
     "execution_count": 35,
     "metadata": {},
     "output_type": "execute_result"
    }
   ],
   "source": [
    "# посмотрим сколько героев имеется\n",
    "np.unique(X_train[['r1_hero', 'r2_hero', 'r3_hero', 'r4_hero', 'r5_hero']]).max()"
   ]
  },
  {
   "cell_type": "code",
   "execution_count": 37,
   "metadata": {
    "collapsed": true
   },
   "outputs": [],
   "source": [
    "# ф-ция для мешка слов\n",
    "def bag_of_heroes(X):\n",
    "    X_pick = np.zeros((X.shape[0], 112))\n",
    "    for i, match_id in enumerate(X.index):\n",
    "        for p in range(5):\n",
    "            X_pick[i, X.ix[match_id, 'r%d_hero' % (p+1)]-1] = 1\n",
    "            X_pick[i, X.ix[match_id, 'd%d_hero' % (p+1)]-1] = -1\n",
    "            \n",
    "    return pd.DataFrame(X_pick, index=X.index)"
   ]
  },
  {
   "cell_type": "code",
   "execution_count": 41,
   "metadata": {},
   "outputs": [],
   "source": [
    "X_heroes = bag_of_heroes(X_train)"
   ]
  },
  {
   "cell_type": "code",
   "execution_count": 42,
   "metadata": {},
   "outputs": [
    {
     "name": "stdout",
     "output_type": "stream",
     "text": [
      "C = 1e-05 Score = 0.714816557414\n",
      "C = 0.0001 Score = 0.742683407776\n",
      "C = 0.001 Score = 0.751504033108\n",
      "C = 0.01 Score = 0.751821387716\n",
      "C = 0.1 Score = 0.751785096439\n",
      "C = 1 Score = 0.751779683992\n",
      "C = 10 Score = 0.751779470458\n",
      "C = 100 Score = 0.751779339049\n",
      "C = 1000 Score = 0.751779296697\n",
      "C = 10000 Score = 0.751779303054\n",
      "C = 100000 Score = 0.751779305173\n",
      "Results:\n",
      " C = 0.01 \n",
      "Best Score = 0.751821387716\n",
      "Wall time: 3min 41s\n"
     ]
    },
    {
     "data": {
      "image/png": "[encoded data removed]",
      "text/plain": [
       "<matplotlib.figure.Figure at 0x2c02a230c88>"
      ]
     },
     "metadata": {},
     "output_type": "display_data"
    }
   ],
   "source": [
    "%%time\n",
    "# соединим два датафрейма и проверим модель с новыми признаками\n",
    "X_train_with_heroes = pd.concat([X_train, X_heroes], axis=1)\n",
    "\n",
    "C, max_score = test_model(X_train_with_heroes, y_train)\n",
    "print('Results:\\n C =', C, '\\nBest Score =', max_score)"
   ]
  },
  {
   "cell_type": "markdown",
   "metadata": {},
   "source": [
    "При добавлении мешка слов - качество значительно выросло(на 0.04). Это объясняется тем, что id - не давали никакую информацию и были пустыми числами для модели. Но т.к. мы создали новые признаки на основе этих номеров - мы смогли по-другому их преподнести, а значит - модель их воспринимала совсем по-другому."
   ]
  }
 ],
 "metadata": {
  "kernelspec": {
   "display_name": "Python 3",
   "language": "python",
   "name": "python3"
  },
  "language_info": {
   "codemirror_mode": {
    "name": "ipython",
    "version": 3
   },
   "file_extension": ".py",
   "mimetype": "text/x-python",
   "name": "python",
   "nbconvert_exporter": "python",
   "pygments_lexer": "ipython3",
   "version": "3.6.3"
  }
 },
 "nbformat": 4,
 "nbformat_minor": 2
}
