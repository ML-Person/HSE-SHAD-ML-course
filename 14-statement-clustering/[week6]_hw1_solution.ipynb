{
 "cells": [
  {
   "cell_type": "code",
   "execution_count": 1,
   "metadata": {
    "collapsed": true
   },
   "outputs": [],
   "source": [
    "%matplotlib inline\n",
    "import matplotlib.pyplot as plt\n",
    "import numpy as np\n",
    "import pandas as pd\n",
    "\n",
    "import warnings\n",
    "warnings.filterwarnings('ignore')\n",
    "\n",
    "from sklearn.cluster import KMeans\n",
    "from skimage import io, img_as_float"
   ]
  },
  {
   "cell_type": "markdown",
   "metadata": {},
   "source": [
    "1) Загрузите картинку parrots.jpg. Преобразуйте изображение, приведя все значения в интервал от 0 до 1. Для этого можно воспользоваться функцией img_as_float из модуля skimage. Обратите внимание на этот шаг, так как при работе с исходным изображением вы получите некорректный результат."
   ]
  },
  {
   "cell_type": "code",
   "execution_count": 2,
   "metadata": {
    "collapsed": true
   },
   "outputs": [],
   "source": [
    "parrots = io.imread('parrots.jpg')\n",
    "parrots_values = img_as_float(parrots)\n",
    "w, h, d = parrots_values.shape"
   ]
  },
  {
   "cell_type": "markdown",
   "metadata": {},
   "source": [
    "2) Создайте матрицу объекты-признаки: характеризуйте каждый пиксель тремя координатами - значениями интенсивности в пространстве RGB."
   ]
  },
  {
   "cell_type": "code",
   "execution_count": 3,
   "metadata": {},
   "outputs": [
    {
     "data": {
      "text/html": [
       "<div>\n",
       "<style>\n",
       "    .dataframe thead tr:only-child th {\n",
       "        text-align: right;\n",
       "    }\n",
       "\n",
       "    .dataframe thead th {\n",
       "        text-align: left;\n",
       "    }\n",
       "\n",
       "    .dataframe tbody tr th {\n",
       "        vertical-align: top;\n",
       "    }\n",
       "</style>\n",
       "<table border=\"1\" class=\"dataframe\">\n",
       "  <thead>\n",
       "    <tr style=\"text-align: right;\">\n",
       "      <th></th>\n",
       "      <th>R</th>\n",
       "      <th>G</th>\n",
       "      <th>B</th>\n",
       "    </tr>\n",
       "  </thead>\n",
       "  <tbody>\n",
       "    <tr>\n",
       "      <th>0</th>\n",
       "      <td>0.015686</td>\n",
       "      <td>0.494118</td>\n",
       "      <td>0.019608</td>\n",
       "    </tr>\n",
       "    <tr>\n",
       "      <th>1</th>\n",
       "      <td>0.007843</td>\n",
       "      <td>0.494118</td>\n",
       "      <td>0.007843</td>\n",
       "    </tr>\n",
       "    <tr>\n",
       "      <th>2</th>\n",
       "      <td>0.007843</td>\n",
       "      <td>0.494118</td>\n",
       "      <td>0.007843</td>\n",
       "    </tr>\n",
       "  </tbody>\n",
       "</table>\n",
       "</div>"
      ],
      "text/plain": [
       "          R         G         B\n",
       "0  0.015686  0.494118  0.019608\n",
       "1  0.007843  0.494118  0.007843\n",
       "2  0.007843  0.494118  0.007843"
      ]
     },
     "execution_count": 3,
     "metadata": {},
     "output_type": "execute_result"
    }
   ],
   "source": [
    "pixels = pd.DataFrame(np.reshape(parrots_values, (w * h, d)), columns=['R', 'G', 'B'])\n",
    "pixels.head(3)"
   ]
  },
  {
   "cell_type": "markdown",
   "metadata": {},
   "source": [
    "3) Запустите алгоритм K-Means с параметрами init='k-means++' и random_state=241. После выделения кластеров все пиксели, отнесенные в один кластер, попробуйте заполнить двумя способами: медианным и средним цветом по кластеру."
   ]
  },
  {
   "cell_type": "code",
   "execution_count": 4,
   "metadata": {
    "collapsed": true
   },
   "outputs": [],
   "source": [
    "def model_kmeans(pixels, n_clusters=8):\n",
    "    \n",
    "    pixels = pixels.copy()\n",
    "    kmeans = KMeans(n_clusters=n_clusters, init='k-means++', random_state=241)\n",
    "    pixels['cluster_number'] = kmeans.fit_predict(pixels)\n",
    "    \n",
    "    means = pixels.groupby('cluster_number').mean().values\n",
    "    mean_pixels = [means[i] for i in pixels['cluster_number'].values]\n",
    "    mean_image = np.reshape(mean_pixels, (w, h, d))\n",
    "    io.imsave('mean_parrots.jpg', mean_image)\n",
    "    \n",
    "    medians = pixels.groupby('cluster_number').median().values\n",
    "    medians_pixels = [medians[i] for i in pixels['cluster_number'].values]\n",
    "    median_image = np.reshape(medians_pixels, (w, h, d))\n",
    "    io.imsave('median_parrots.jpg', median_image)\n",
    "    \n",
    "    return mean_image, median_image"
   ]
  },
  {
   "cell_type": "markdown",
   "metadata": {},
   "source": [
    "4) Измерьте качество получившейся сегментации с помощью метрики PSNR. Эту метрику нужно реализовать самостоятельно (см. определение)."
   ]
  },
  {
   "cell_type": "code",
   "execution_count": 5,
   "metadata": {
    "collapsed": true
   },
   "outputs": [],
   "source": [
    "def PSNR(image1, image2):\n",
    "    mse = np.mean((image1 - image2) ** 2)\n",
    "    return 10 * np.log10(1.0 / mse)"
   ]
  },
  {
   "cell_type": "markdown",
   "metadata": {},
   "source": [
    "5) Найдите минимальное количество кластеров, при котором значение PSNR выше 20 (можно рассмотреть не более 20 кластеров, но не забудьте рассмотреть оба способа заполнения пикселей одного кластера). Это число и будет ответом в данной задаче."
   ]
  },
  {
   "cell_type": "code",
   "execution_count": 7,
   "metadata": {},
   "outputs": [
    {
     "name": "stdout",
     "output_type": "stream",
     "text": [
      "9.81883554477 9.42784046051\n",
      "12.0801770849 11.6550772669\n",
      "13.1534870446 12.7749481751\n",
      "14.3678179409 14.0059287219\n",
      "15.5271461973 15.1779090773\n",
      "16.5439940966 16.0511767785\n",
      "17.6409925086 17.3393684914\n",
      "18.4368290141 18.1379714434\n",
      "19.1126727358 18.8138873562\n",
      "19.6407566359 19.4174725155\n",
      "20.1275887465 19.8412840739\n",
      "N_clusters = 11\n"
     ]
    }
   ],
   "source": [
    "for n in range(1, 21):\n",
    "    mean_image, median_image = model_kmeans(pixels, n)\n",
    "    psnr_mean, psnr_median = PSNR(parrots_values, mean_image), PSNR(parrots_values, median_image)\n",
    "    print(psnr_mean, psnr_median)\n",
    "    \n",
    "    if psnr_mean > 20 or psnr_median > 20:\n",
    "        print('N_clusters =', n)\n",
    "        break"
   ]
  }
 ],
 "metadata": {
  "kernelspec": {
   "display_name": "Python 3",
   "language": "python",
   "name": "python3"
  },
  "language_info": {
   "codemirror_mode": {
    "name": "ipython",
    "version": 3
   },
   "file_extension": ".py",
   "mimetype": "text/x-python",
   "name": "python",
   "nbconvert_exporter": "python",
   "pygments_lexer": "ipython3",
   "version": "3.6.3"
  }
 },
 "nbformat": 4,
 "nbformat_minor": 2
}
